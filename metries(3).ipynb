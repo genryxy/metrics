{
 "cells": [
  {
   "cell_type": "code",
   "execution_count": null,
   "metadata": {
    "collapsed": true
   },
   "outputs": [],
   "source": [
    "grep ‘POST /’ access_log > post_today.txt"
   ]
  },
  {
   "cell_type": "code",
   "execution_count": 40,
   "metadata": {},
   "outputs": [
    {
     "data": {
      "text/plain": [
       "'/home/nbuser/library'"
      ]
     },
     "execution_count": 40,
     "metadata": {},
     "output_type": "execute_result"
    }
   ],
   "source": [
    "import os\n",
    "os.getcwd()"
   ]
  },
  {
   "cell_type": "code",
   "execution_count": null,
   "metadata": {},
   "outputs": [],
   "source": [
    "import sqlite3\n",
    "import requests\n",
    "import urllib.request\n",
    "import json\n",
    "import datetime\n",
    "from datetime import date\n",
    "\n",
    "import os\n",
    "\n",
    "os.chdir('/logs')\n",
    "\n",
    "def metries_num():\n",
    "    Date = datetime.date.today()\n",
    "    data = Date + datetime.timedelta(days=-1)\n",
    "    \n",
    "    yesterday_f = open(str(data)+'.log', 'r')\n",
    "    users_yes = set()\n",
    "    for line in yesterday_f:\n",
    "        users_yes.add(line.strip().split()[0])\n",
    "    yesterday_f.close()\n",
    "    \n",
    "    today_f = open(str(Date)+'.log', 'r')\n",
    "\n",
    "    Successful_requests = 0\n",
    "    users = set()\n",
    "    countries = set()\n",
    "    super_users = set()\n",
    "    sites = []\n",
    "    hours = [0 for i in range(0, 24)]\n",
    "    max_unique_users = 0\n",
    "    #hours_IP = []\n",
    "    countries_IP = {}\n",
    "    countries_queries = {}\n",
    "    average_num = {}\n",
    "    hour_unique_users = set()\n",
    "    Average_num_of_requests_per_country = ''\n",
    "    site_from = set() \n",
    "    site_from_dict = {}\n",
    "    country_unique_users = set()\n",
    "    English_translatings = 0\n",
    "\n",
    "    for line in today_f:\n",
    "        main_line = line.strip().split()\n",
    "        \n",
    "        if main_line[8] == '200':\n",
    "            IP = main_line[0]\n",
    "            hour = int(main_line[3][13:15])\n",
    "            site_in = main_line[6]\n",
    "            \n",
    "            site = main_line[10][1:-1]\n",
    "            if site not in site_from:\n",
    "                site_from.add(site)\n",
    "                site_from_dict[site] = 1\n",
    "            else:\n",
    "                site_from_dict[site] += 1\n",
    "                \n",
    "            try:\n",
    "                coun1 = requests.get('http://api.sypexgeo.net/json/{}'.format(IP))\n",
    "                coun = json.loads(coun1.text)\n",
    "                country = coun['country']['name_en']\n",
    "            except TypeError:\n",
    "                country = '-'\n",
    "                \n",
    "            if country not in countries:\n",
    "                countries.add(country)\n",
    "                countries_queries[country] = 1\n",
    "            else:\n",
    "                countries_queries[country] += 1\n",
    "\n",
    "            hours[hour] += 1\n",
    "            Successful_requests += 1  # кол-во запросов\n",
    "\n",
    "            if IP not in users:\n",
    "                users.add(IP)\n",
    "                countries_IP[!!!!!!!!!!!!]\n",
    "\n",
    "            if 'en-US' in line:\n",
    "                English_translatings += 1  # кол-во переведенных страниц на английский\n",
    "\n",
    "            if IP not in users_yes and IP in users:\n",
    "                super_users.add(IP) # кол-во пользователей, которых не было вчера\n",
    "            \n",
    "            if (hour != 23) and (hours[hour] > 1):\n",
    "                hour_unique_users.add(IP)\n",
    "            elif (hour != 23):\n",
    "                max_unique_users = max(max_unique_users, len(hour_unique_users))\n",
    "                print('***', max_unique_users)\n",
    "                hour_unique_users.clear()\n",
    "            elif (hours[23] <= 1):\n",
    "                hour_unique_users.clear()\n",
    "            else:\n",
    "                hour_unique_users.add(IP)\n",
    "                max_unique_users = max(max_unique_users, len(hour_unique_users)) # Час, когда было на сайте наибольшее число уникальных посетителей\n",
    "    \n",
    "    hour_unique_users.clear()                   \n",
    "    today_f.close()\n",
    "    \n",
    "    names = [[sites, {}, 0], [hours, {}, 0], [hours_IP, {}, 0], [countries_IP, {}, ''], [countries_queries, {}, '']]\n",
    "\n",
    "    for name in names:\n",
    "        for i in name[0]:\n",
    "            if i in name[1]:\n",
    "                name[1][i] += 1\n",
    "            else:\n",
    "                name[1][i] = 1\n",
    "\n",
    "    max_number_visit_site = sites.count(max(sites)) # Количество посещений самой часто посещаемой страницы\n",
    "    names[0][2] = max_number_visit_site # можно без введения переменной\n",
    "    \n",
    "    max_number_requests_hour = max(hours) # Час, когда было больше всего запросов к сайту\n",
    "    names[1][2] = max_number_visit_requests_hour # можно без введения переменной\n",
    "    \n",
    "    names[2][2] = max_unique_users # Час, когда было на сайте наибольшее число уникальных посетителей\n",
    "    \n",
    "    for i in range(3, 5):\n",
    "        for key in names[i][1].keys():  # кол-во уникальных пользователей по странам за день\n",
    "            names[i][2] += key + '-' + str((names[i][1])[key]) + ','  # кол-во запросов по странам\n",
    "\n",
    "    for key in names[3][1].keys():\n",
    "        for key in names[4][1].keys():  # Среднее количество запросов на одного пользователя по странам\n",
    "            average_num[key] = (names[4][1])[key] / (names[3][1])[key]\n",
    "    for key in average_num.keys():\n",
    "        average_num_s += key + '-' + str(average_num[key]) + ','\n",
    "\n",
    "    Visiting_most_visited_page, Top_requests_hour, Top_unique_users_hour = names[0][2], names[1][2], names[2][2]\n",
    "    Unique_users_per_country, Requests_per_country = names[3][2], names[4][2]\n",
    "    Today_users = len(super_users)  # кол-во пользователей, которые сегодня были на сайте, но не были вчера\n",
    "    Unique_users = len(users)  # кол-во уникальных пользователей\n",
    "    Countries = len(countries)  # кол-во уникальных стран\n",
    "    Unique_outgoing_sites = len(sites_from)  # кол-во уникальных сайтов, с которых пришли пользователи\n",
    "\n",
    "    int_info = [(Date, Successful_requests, Unique_users, Countries, Today_users, Visiting_most_visited_page,\n",
    "                 Top_requests_hour, Top_unique_users_hour, Unique_outgoing_sites, English_translatings)]\n",
    "    countries_info = [(Date, Unique_users_per_country, Requests_per_country, Average_num_of_requests_per_country,)]\n",
    "    y_f = open('/home/AndreyKorokhov/yesterday.txt', 'w')\n",
    "    y_f.write(' '.join(Unique_users))\n",
    "    y_f.close()\n",
    "\n",
    "    conn = sqlite3.connect('/home/AndreyKorokhov/Metries.db')\n",
    "    c = conn.cursor()\n",
    "\n",
    "    c.execute(\n",
    "        '''CREATE TABLE IF NOT EXISTS Metries_int (Date Date, Succesful_requests INTEGER, Unq_users INTEGER, Countries INTEGER, Today_users INTEGER, Visiting_most_visited_page INTEGER,  Top_requests_hour INTEGER,\n",
    "         Top_unique_users_hour INTEGER, Unq_outgoing_sites INTEGER, Russian_translatings INTEGER);''')\n",
    "    c.execute(conn = sqlite3.connect('/home/AndreyKorokhov/Metries.db')\n",
    "    c = conn.cursor()\n",
    "\n",
    "    c.execute(\n",
    "        '''CREATE TABLE IF NOT EXISTS Metries_int (Date Date, Succesful_requests INTEGER, Unq_users INTEGER, Countries INTEGER, Today_users INTEGER, Visiting_most_visited_page INTEGER,  Top_requests_hour INTEGER,\n",
    "         Top_unique_users_hour INTEGER, Unq_outgoing_sites INTEGER, English_translatings INTEGER);''')\n",
    "    c.execute(\n",
    "        '''CREATE TABLE IF NOT EXISTS Metries_countries (Date Date, Unq_users_per_country text, Requests_per_country text, Average_num_of_requests_per_country text);''')\n",
    "\n",
    "    c.executemany(\"INSERT INTO Metries_int VALUES (?, ?, ?, ?, ?, ?, ?, ?, ?, ?)\", int_info)\n",
    "    c.executemany(\"INSERT INTO Metries_countries VALUES (?, ?, ?, ?)\", countries_info)\n",
    "\n",
    "    conn.commit()\n",
    "    conn.close()\n",
    "\n",
    "if __name__ == '__main__':\n",
    "    metries_num()"
   ]
  },
  {
   "cell_type": "code",
   "execution_count": 128,
   "metadata": {},
   "outputs": [],
   "source": [
    "s = '''46.189.128.0 - - [05/Apr/2018:00:01:01 ] \"GET /stems HTTP/1.0\" 200 3336 \"http://www.google.com\" \"Mozilla/5.0 (Windows; U; MSIE 9.0; WIndows NT 9.0; en-US))\"'''.strip().split()"
   ]
  },
  {
   "cell_type": "code",
   "execution_count": 131,
   "metadata": {},
   "outputs": [
    {
     "data": {
      "text/plain": [
       "'/stems'"
      ]
     },
     "execution_count": 131,
     "metadata": {},
     "output_type": "execute_result"
    }
   ],
   "source": [
    "s[6]"
   ]
  },
  {
   "cell_type": "code",
   "execution_count": 163,
   "metadata": {},
   "outputs": [],
   "source": [
    "countries_queries_dict = sorted(countries_queries_dict.items(), key = lambda item: item[0])\n"
   ]
  },
  {
   "cell_type": "code",
   "execution_count": 13,
   "metadata": {},
   "outputs": [
    {
     "data": {
      "text/plain": [
       "{'1': 24, 'gfhj': 12, 'poka': 14, 'privet': 12, 'sfg': 20, 'tr': 100}"
      ]
     },
     "execution_count": 13,
     "metadata": {},
     "output_type": "execute_result"
    }
   ],
   "source": [
    "s = {'privet': 6, 'poka': 7, '1': 12, 'tr': 50, 'sfg': 10, 'gfhj': 6}\n",
    "dic = {}\n",
    "s = sorted(s.items(), key = lambda item: item[0])\n",
    "for i in range(len(s)):\n",
    "    dic[s[i][0]] = s[i][1]*2\n",
    "dic\n",
    "    "
   ]
  },
  {
   "cell_type": "code",
   "execution_count": 9,
   "metadata": {},
   "outputs": [
    {
     "data": {
      "text/plain": [
       "6"
      ]
     },
     "execution_count": 9,
     "metadata": {},
     "output_type": "execute_result"
    }
   ],
   "source": [
    "len(s)"
   ]
  },
  {
   "cell_type": "code",
   "execution_count": 125,
   "metadata": {},
   "outputs": [
    {
     "data": {
      "text/plain": [
       "[2, 38]"
      ]
     },
     "execution_count": 125,
     "metadata": {},
     "output_type": "execute_result"
    }
   ],
   "source": [
    "countries_IP = {}\n",
    "countries_IP['China'] = [1, 38]\n",
    "countries_IP['China'][0] += 1\n",
    "countries_IP['China'][1] = 38\n",
    "countries_IP['China']"
   ]
  },
  {
   "cell_type": "code",
   "execution_count": 118,
   "metadata": {},
   "outputs": [
    {
     "data": {
      "text/plain": [
       "{1, 2, 3, 4, 5, 6, 8, 9}"
      ]
     },
     "execution_count": 118,
     "metadata": {},
     "output_type": "execute_result"
    }
   ],
   "source": [
    "poz = [1, 2, 3, 4, 1, 5, 6, 8, 9]\n",
    "poz = set(poz)\n",
    "poz"
   ]
  },
  {
   "cell_type": "code",
   "execution_count": 52,
   "metadata": {},
   "outputs": [
    {
     "data": {
      "text/plain": [
       "{1, 2, 3, 4, 5, 6, 8, 9, 10}"
      ]
     },
     "execution_count": 52,
     "metadata": {},
     "output_type": "execute_result"
    }
   ],
   "source": [
    "poz.add(10)\n",
    "poz"
   ]
  },
  {
   "cell_type": "code",
   "execution_count": 24,
   "metadata": {},
   "outputs": [],
   "source": [
    "    import json\n",
    "    import requests\n",
    "    import urllib.request\n",
    "    today_f = open('logs.log', 'r')\n",
    "    \n",
    "    successful_requests = 0 #успешные запросы (1)\n",
    "    users = set() #уникальные пользователи (2)\n",
    "    countries = set() #страны по IP для вычисления количества стран (3)\n",
    "    super_users = set() #пользователи, которые были сегодня, но не были вчера (4)\n",
    "    queries_dict = {} #для количества посещений самой часто посещаемой страницы (5)\n",
    "    hours = [0 for i in range(0, 24)] #Час (номер) когда было больше всего запросов к сайту (6)\n",
    "    \n",
    "    hour_unique_users = set() #уникальные посетители по часам (7)\n",
    "    max_unique_users = 0 #наибольшее число уникальных посетителей в час за день (7)\n",
    "    hour_max_unique = -1 #час (номер) когда было на сайте наибольшее число уникальных посетителей (7)\n",
    "    unique_queries = set() #для количества уникальных пользователей по странам (8)\n",
    "    countries_unique_users_dict = {} #для количества уникальных пользователей по странам (8)\n",
    "    countries_queries_dict = {} #для количества запросов по странам (9)\n",
    "    \n",
    "    average_numb_queries_dict = {} #среднее количество запросов на одного пользователя по странам (10)\n",
    "    site_from = set() #множество сайтов, с которых переходили (11)\n",
    "    site_from_dict = {} #множество сайтов, с которых переходили (11)\n",
    "    english_translatings = 0 #количество переводов, при помощи подсчета количества вхождений 'en-US' (12)\n",
    "\n",
    "    for line in today_f:\n",
    "        main_line = line.strip().split()\n",
    "        \n",
    "        if main_line[8] == '200':\n",
    "            IP = main_line[0]\n",
    "            hour = int(main_line[3][13:15])\n",
    "            hours[hour] += 1\n",
    "            successful_requests += 1  # кол-во запросов        \n",
    "            \n",
    "            site = main_line[10][1:-1]\n",
    "            if site not in site_from:\n",
    "                site_from.add(site)\n",
    "                site_from_dict[site] = 1\n",
    "            else:\n",
    "                site_from_dict[site] += 1 #сайты, с которых переходили\n",
    "                \n",
    "            try:\n",
    "                coun1 = requests.get('http://api.sypexgeo.net/json/{}'.format(IP))\n",
    "                coun = json.loads(coun1.text)\n",
    "                country = coun['country']['name_en']\n",
    "            except TypeError:\n",
    "                country = '-'\n",
    "                \n",
    "            if country not in countries:\n",
    "                countries.add(country)\n",
    "                countries_queries_dict[country] = 1\n",
    "            else:\n",
    "                countries_queries_dict[country] += 1 #количество запросов по странам\n",
    "                \n",
    "            query = main_line[6]\n",
    "            if query not in unique_queries:\n",
    "                unique_queries.add(query)\n",
    "                queries_dict[country] = 1\n",
    "            else:\n",
    "                try:\n",
    "                    queries_dict[country] += 1\n",
    "                except KeyError:\n",
    "                    queries_dict[country] = 1                    \n",
    "            max(queries_dict.values()) #количество посещений самой часто посещаемой страницы                \n",
    "\n",
    "            if 'en-US' in line:\n",
    "                english_translatings += 1  # кол-во переведенных страниц на английский\n",
    "\n",
    "            #if IP not in users_yes and IP in users:\n",
    "            #    super_users.add(IP)\n",
    "                              \n",
    "            if IP not in users:\n",
    "                users.add(IP) \n",
    "                countries_unique_users_dict[country] = 1\n",
    "            else:\n",
    "                countries_unique_users_dict[country] += 1 # Количество уникальных пользователей по странам  \n",
    "                \n",
    "            if (hours[hour] > 1):\n",
    "                hour_unique_users.add(IP)\n",
    "            else:\n",
    "                if (max_unique_users < len(hour_unique_users)):\n",
    "                    max_unique_users = len(hour_unique_users)\n",
    "                    hour_max_unique = hour - 1  # Час, когда было на сайте наибольшее число уникальных посетителей\n",
    "                hour_unique_users.clear()\n",
    "                     \n",
    "    hour_unique_users.clear()\n",
    "    today_f.close()\n",
    "    \n",
    "    countries_unique_users_dict = sorted(countries_unique_users_dict.items(), key = lambda item: item[0])  \n",
    "    countries_queries_dict = sorted(countries_queries_dict.items(), key = lambda item: item[0])\n",
    "    for i in range(len(countries_queries_dict)):\n",
    "        average_numb_queries_dict[countries_queries_dict[i][0]] = countries_queries_dict[i][1] / countries_unique_users_dict[i][1]\n",
    "        "
   ]
  },
  {
   "cell_type": "code",
   "execution_count": 25,
   "metadata": {},
   "outputs": [
    {
     "data": {
      "text/plain": [
       "265"
      ]
     },
     "execution_count": 25,
     "metadata": {},
     "output_type": "execute_result"
    }
   ],
   "source": [
    "max(site_from_dict.values())"
   ]
  },
  {
   "cell_type": "code",
   "execution_count": 31,
   "metadata": {},
   "outputs": [
    {
     "data": {
      "text/plain": [
       "{'-': 1.4822695035460993,\n",
       " 'Brazil': 1.3424657534246576,\n",
       " 'China': 1.0172413793103448,\n",
       " 'Germany': 1.1139240506329113,\n",
       " 'Greece': 1.1730769230769231,\n",
       " 'Italia': 1.094488188976378,\n",
       " 'Japan': 1.09375,\n",
       " 'Portugal': 1.1801801801801801,\n",
       " 'Russia': 1.4375,\n",
       " 'Tanzania': 1.0618556701030928,\n",
       " 'United States': 1.024390243902439}"
      ]
     },
     "execution_count": 31,
     "metadata": {},
     "output_type": "execute_result"
    }
   ],
   "source": [
    "average_numb_queries_dict"
   ]
  },
  {
   "cell_type": "code",
   "execution_count": 28,
   "metadata": {},
   "outputs": [
    {
     "data": {
      "text/plain": [
       "1269"
      ]
     },
     "execution_count": 28,
     "metadata": {},
     "output_type": "execute_result"
    }
   ],
   "source": [
    "successful_requests"
   ]
  },
  {
   "cell_type": "code",
   "execution_count": 70,
   "metadata": {},
   "outputs": [
    {
     "data": {
      "text/plain": [
       "120"
      ]
     },
     "execution_count": 70,
     "metadata": {},
     "output_type": "execute_result"
    }
   ],
   "source": [
    "sites.count(max(sites))"
   ]
  },
  {
   "cell_type": "code",
   "execution_count": 34,
   "metadata": {},
   "outputs": [
    {
     "name": "stdout",
     "output_type": "stream",
     "text": [
      "Greece\n"
     ]
    }
   ],
   "source": [
    "coun = json.loads((requests.get('http://api.sypexgeo.net/json/' + IP)).text)\n",
    "print(coun['country']['name_en'])"
   ]
  },
  {
   "cell_type": "code",
   "execution_count": 43,
   "metadata": {},
   "outputs": [
    {
     "data": {
      "text/plain": [
       "1269"
      ]
     },
     "execution_count": 43,
     "metadata": {},
     "output_type": "execute_result"
    }
   ],
   "source": [
    "successful_requests"
   ]
  },
  {
   "cell_type": "code",
   "execution_count": 4,
   "metadata": {},
   "outputs": [
    {
     "ename": "NameError",
     "evalue": "name 'timedelta' is not defined",
     "output_type": "error",
     "traceback": [
      "\u001b[0;31m---------------------------------------------------------------------------\u001b[0m",
      "\u001b[0;31mNameError\u001b[0m                                 Traceback (most recent call last)",
      "\u001b[0;32m<ipython-input-4-e6199d8f0bf4>\u001b[0m in \u001b[0;36m<module>\u001b[0;34m()\u001b[0m\n\u001b[1;32m      1\u001b[0m \u001b[0;32mimport\u001b[0m \u001b[0mdatetime\u001b[0m\u001b[0;34m\u001b[0m\u001b[0m\n\u001b[1;32m      2\u001b[0m \u001b[0;31m#from datetime import date\u001b[0m\u001b[0;34m\u001b[0m\u001b[0;34m\u001b[0m\u001b[0m\n\u001b[0;32m----> 3\u001b[0;31m \u001b[0mdatetime\u001b[0m\u001b[0;34m.\u001b[0m\u001b[0mdatetime\u001b[0m\u001b[0;34m.\u001b[0m\u001b[0mnow\u001b[0m\u001b[0;34m(\u001b[0m\u001b[0;34m)\u001b[0m \u001b[0;34m-\u001b[0m \u001b[0mtimedelta\u001b[0m\u001b[0;34m(\u001b[0m\u001b[0mdays\u001b[0m\u001b[0;34m=\u001b[0m\u001b[0;36m1\u001b[0m\u001b[0;34m)\u001b[0m\u001b[0;34m\u001b[0m\u001b[0m\n\u001b[0m",
      "\u001b[0;31mNameError\u001b[0m: name 'timedelta' is not defined"
     ]
    }
   ],
   "source": [
    "import datetime\n",
    "#from datetime import date\n",
    "datetime.datetime.now() - timedelta(days=1)"
   ]
  },
  {
   "cell_type": "code",
   "execution_count": 10,
   "metadata": {},
   "outputs": [
    {
     "data": {
      "text/plain": [
       "datetime.date(2018, 3, 31)"
      ]
     },
     "execution_count": 10,
     "metadata": {},
     "output_type": "execute_result"
    }
   ],
   "source": [
    "from datetime import datetime, timedelta\n",
    "tomorrow = date.today() + timedelta(days=-5)\n",
    "tomorrow"
   ]
  },
  {
   "cell_type": "code",
   "execution_count": 5,
   "metadata": {},
   "outputs": [
    {
     "data": {
      "text/plain": [
       "datetime.datetime(2018, 4, 5, 15, 46, 29, 737996)"
      ]
     },
     "execution_count": 5,
     "metadata": {},
     "output_type": "execute_result"
    }
   ],
   "source": [
    "datetime.datetime.now()"
   ]
  }
 ],
 "metadata": {
  "kernelspec": {
   "display_name": "Python 3.6",
   "language": "python",
   "name": "python36"
  },
  "language_info": {
   "codemirror_mode": {
    "name": "ipython",
    "version": 3
   },
   "file_extension": ".py",
   "mimetype": "text/x-python",
   "name": "python",
   "nbconvert_exporter": "python",
   "pygments_lexer": "ipython3",
   "version": "3.6.3"
  }
 },
 "nbformat": 4,
 "nbformat_minor": 2
}
